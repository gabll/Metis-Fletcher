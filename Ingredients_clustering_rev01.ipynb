{
 "metadata": {
  "name": "",
  "notify_time": "30",
  "signature": "sha256:a0522ede67dedd7523001e85ad1c690df90ddc854bfec13ad23f7135e2b5e3de"
 },
 "nbformat": 3,
 "nbformat_minor": 0,
 "worksheets": [
  {
   "cells": [
    {
     "cell_type": "code",
     "collapsed": false,
     "input": [
      "import requests\n",
      "import credentials\n",
      "import numpy as np\n",
      "from textblob import TextBlob\n",
      "from pprint import pprint\n",
      "from nltk.corpus import stopwords\n",
      "import text_utils\n",
      "import tag_clouder\n",
      "import os"
     ],
     "language": "python",
     "metadata": {},
     "outputs": [],
     "prompt_number": 230
    },
    {
     "cell_type": "code",
     "collapsed": false,
     "input": [
      "# Get recipes (italian cuisine) from the Yummly API\n",
      "step = 500\n",
      "recipes_json = []\n",
      "for page in range(0,18000,step):\n",
      "    response = requests.get(\"http://api.yummly.com/v1/api/recipes?\" +\n",
      "                              \"_app_id=\" + credentials.app_id + \"&_app_key=\" + credentials.app_key +\n",
      "                              \"&maxResult=\" + str(step) +\"&start=\" + str(page) +\n",
      "                              \"&allowedCuisine[]=cuisine^cuisine-italian\")\n",
      "    recipes_json.extend(response.json()['matches'])"
     ],
     "language": "python",
     "metadata": {},
     "outputs": []
    },
    {
     "cell_type": "code",
     "collapsed": false,
     "input": [
      "recipes_json = [i for i in recipes_json if 'Unilever Netherlands' not in i['sourceDisplayName']]\n",
      "print 'N. of recipes:', len(recipes_json)\n",
      "print \n",
      "pprint(recipes_json[0])"
     ],
     "language": "python",
     "metadata": {},
     "outputs": [
      {
       "output_type": "stream",
       "stream": "stdout",
       "text": [
        "N. of recipes: 16765\n",
        "\n",
        "{u'attributes': {u'course': [u'Main Dishes'], u'cuisine': [u'Italian']},\n",
        " u'flavors': {u'bitter': 0.8333333333333334,\n",
        "              u'meaty': 0.8333333333333334,\n",
        "              u'piquant': 0.0,\n",
        "              u'salty': 0.8333333333333334,\n",
        "              u'sour': 0.16666666666666666,\n",
        "              u'sweet': 0.16666666666666666},\n",
        " u'id': u'Roman-style-spaghetti-alla-carbonara-306162',\n",
        " u'imageUrlsBySize': {u'90': u'http://lh4.ggpht.com/aamlGoNauY60FRnQQCpoZObhx2TM6LIbJ2a-Hpf10atAmlF4Ize_TmHz3lyckTVLHl5ZxQsAS07B_7KwbSMoSQA=s90-c'},\n",
        " u'ingredients': [u'guanciale',\n",
        "                  u'spaghetti',\n",
        "                  u'large eggs',\n",
        "                  u'pecorino romano cheese'],\n",
        " u'rating': 5,\n",
        " u'recipeName': u'Roman-Style Spaghetti Alla Carbonara',\n",
        " u'smallImageUrls': [u'http://lh4.ggpht.com/CMcY1GrFQ4hKHs4hpdjyXO-kPv6FhtD5jA-3ExoaOsetM18SbuGqmxfotG8-itdP97jrcdFUNnVtHRrE6Uaj6Q=s90'],\n",
        " u'sourceDisplayName': u'Food Republic',\n",
        " u'totalTimeInSeconds': 1800}\n"
       ]
      }
     ],
     "prompt_number": 6
    },
    {
     "cell_type": "code",
     "collapsed": false,
     "input": [
      "ingredients_list = [i['ingredients'] for i in recipes_json]\n",
      "\n",
      "# List of stopwords\n",
      "stop = stopwords.words('english')\n",
      "\n",
      "# All to towercase, remove not-nouns and stopwords from ingredients\n",
      "ingredients_only_nouns = [[[j[0] for j in TextBlob(i.lower()).tags if j[1][:2] == 'NN' and j[0] not in stop] for i in k] for k in ingredients_list]\n",
      "ingredients_only_nouns = [[' '.join(ing) for ing in recipe] for recipe in ingredients_only_nouns]\n",
      "\n",
      "# Final lists for clustering\n",
      "recipe_ingredients = [', '.join(i) for i in ingredients_only_nouns]\n",
      "recipe_names = [i['recipeName'] for i in recipes_json]\n",
      "recipe_attributes = [i['attributes'] for i in recipes_json]\n",
      "recipe_method = [i['flavors'] for i in recipes_json]\n",
      "\n",
      "pprint(recipe_ingredients[:5])\n",
      "pprint(recipe_names[:5])\n",
      "pprint(recipe_attributes[:5])"
     ],
     "language": "python",
     "metadata": {},
     "outputs": [
      {
       "output_type": "stream",
       "stream": "stdout",
       "text": [
        "[u'guanciale, spaghetti, eggs, pecorino romano cheese',\n",
        " u'ricotta cheese, eggs, oil, flour, salt, pepper',\n",
        " u'chicken, cheddar cheese, parmesan cheese, pasta shells, pasta sauce',\n",
        " u'bertolli\\xae classico oil, potato, garlic, bertolli alfredo sauc, fettuccine cook drain',\n",
        " u'oil, pancetta, pepper, seasoning, cutlet, marsala wine, cream, parsley']\n",
        "[u'Roman-Style Spaghetti Alla Carbonara',\n",
        " u'Easy Ricotta Gnocchi',\n",
        " u'Chicken Broccoli Alfredo Stuffed Shells',\n",
        " u'Bertolli Creamy Fettuccine Primavera',\n",
        " u'Creamy Chicken Marsala']\n",
        "[{u'course': [u'Main Dishes'], u'cuisine': [u'Italian']},\n",
        " {u'course': [u'Main Dishes'], u'cuisine': [u'Italian']},\n",
        " {u'course': [u'Main Dishes'], u'cuisine': [u'Kid-Friendly', u'Italian']},\n",
        " {u'cuisine': [u'Italian']},\n",
        " {u'course': [u'Main Dishes'], u'cuisine': [u'Italian']}]\n"
       ]
      }
     ],
     "prompt_number": 7
    },
    {
     "cell_type": "code",
     "collapsed": false,
     "input": [
      "recipe_sources = [i['sourceDisplayName'] for i in recipes_json]\n",
      "unique_sources = list(set(', '.join(recipe_sources).split(', ')))\n",
      "pprint('Number of sources: ' + str(len(unique_sources)))"
     ],
     "language": "python",
     "metadata": {},
     "outputs": [
      {
       "output_type": "stream",
       "stream": "stdout",
       "text": [
        "'Number of sources: 912'\n"
       ]
      }
     ],
     "prompt_number": 176
    },
    {
     "cell_type": "code",
     "collapsed": false,
     "input": [
      "unique_ingredients = list(set(', '.join(recipe_ingredients).split(', ')))\n",
      "print 'Unique ingredients:', len(unique_ingredients)\n",
      "print unique_ingredients[:10]"
     ],
     "language": "python",
     "metadata": {},
     "outputs": [
      {
       "output_type": "stream",
       "stream": "stdout",
       "text": [
        "Unique ingredients: 2577\n",
        "[u'', u'corn kernel', u'fava beans', u'macadamia nuts', u'mackerel', u'rotel pasta cook drain', u'veget soup mix', u'baking chocolate', u'cannelloni shells', u'grape juice']\n"
       ]
      }
     ],
     "prompt_number": 9
    },
    {
     "cell_type": "code",
     "collapsed": false,
     "input": [
      "# filter ingredients basing on their variance\n",
      "variance_dict = {}\n",
      "not_interesting = ['lasagna noodles','italian sausage','cooking spray', 'pasta sauce', 'italian seasoning', 'sodium chicken broth', 'parmigiano reggiano cheese', 'pancetta', 'celery ribs', '', 'salt', 'sea salt', 'oil', 'vegetable oil', 'water', 'cheese', 'bay leaf', 'garlic clove', 'garlic powder', 'eggs', 'onions', 'peppers', 'romano cheese', 'ricotta', 'pecorino romano cheese', 'lemon', 'linguine', 'italian bread', 'garlic cloves', 'leaf parsley', 'mozzarella cheese', 'plum tomatoes']\n",
      "unique_ingredients = [i for i in unique_ingredients if i not in not_interesting]\n",
      "for ingredient in unique_ingredients:\n",
      "    variance_dict[ingredient] = text_utils.variance_score(ingredient, recipe_ingredients, separator=', ')"
     ],
     "language": "python",
     "metadata": {},
     "outputs": [],
     "prompt_number": 183
    },
    {
     "cell_type": "code",
     "collapsed": false,
     "input": [
      "ingredients_filtered = [i for i in unique_ingredients if variance_dict[i]>0.015]\n",
      "print(ingredients_filtered)\n",
      "print 'Total ingredients filtered:', len(ingredients_filtered)"
     ],
     "language": "python",
     "metadata": {},
     "outputs": [
      {
       "output_type": "stream",
       "stream": "stdout",
       "text": [
        "[u'bacon', u'mozzarella', u'tomato paste', u'cannellini beans', u'wine', u'bread', u'thyme', u'rosemary', u'spinach', u'lemon juice', u'mint', u'shallots', u'pepper flakes', u'sage', u'sugar', u'polenta', u'bay', u'pecorino cheese', u'parsley', u'basil', u'egg yolks', u'baking powder', u'garlic', u'butter', u'arborio rice', u'ground pepper', u'pinenuts', u'milk', u'yeast', u'marsala wine', u'pizza doughs', u'parmesan cheese', u'chicken stock', u'ground beef', u'olives', u'balsamic vinegar', u'baby spinach', u'peas', u'mascarpone', u'prosciutto', u'lemon zest', u'ricotta cheese', u'zucchini', u'bell pepper', u'provolone cheese', u'fennel seeds', u'eggplant', u'chicken broth', u'onion', u'beans', u'tomato sauce', u'marinara sauce', u'asparagus', u'spaghetti', u'pasta', u'celery', u'flour', u'mushrooms', u'wine vinegar', u'carrots', u'nutmeg', u'bread crumbs', u'chicken breasts', u'oregano', u'vanilla', u'cream', u'tomatoes', u'almonds', u'pepper', u'egg whites', u'capers']\n",
        "Total ingredients filtered: 71\n"
       ]
      }
     ],
     "prompt_number": 184
    },
    {
     "cell_type": "markdown",
     "metadata": {},
     "source": [
      "##Clustering"
     ]
    },
    {
     "cell_type": "code",
     "collapsed": false,
     "input": [
      "%time\n",
      "print text_utils.jaccard_score('oil', 'eggs', recipe_ingredients, separator=', ', smoothing=0)"
     ],
     "language": "python",
     "metadata": {},
     "outputs": [
      {
       "output_type": "stream",
       "stream": "stdout",
       "text": [
        "CPU times: user 4 \u00b5s, sys: 1 \u00b5s, total: 5 \u00b5s\n",
        "Wall time: 8.11 \u00b5s\n",
        "0.132167152575"
       ]
      },
      {
       "output_type": "stream",
       "stream": "stdout",
       "text": [
        "\n"
       ]
      }
     ],
     "prompt_number": 23
    },
    {
     "cell_type": "code",
     "collapsed": false,
     "input": [
      "jaccard_matrix = text_utils.relationship_matrix(ingredients_filtered,\n",
      "                                                recipe_ingredients,\n",
      "                                                scoring_method='jaccard_score',\n",
      "                                                separator=', ')\n",
      "prob_matrix_0 = text_utils.relationship_matrix(ingredients_filtered,\n",
      "                                                recipe_ingredients,\n",
      "                                                scoring_method='prob_score',\n",
      "                                                separator=', ',\n",
      "                                                smoothing=0)\n",
      "prob_matrix_1 = text_utils.relationship_matrix(ingredients_filtered,\n",
      "                                                recipe_ingredients,\n",
      "                                                scoring_method='prob_score',\n",
      "                                                separator=', ',\n",
      "                                                smoothing=1)\n",
      "prob_matrix_2 = text_utils.relationship_matrix(ingredients_filtered,\n",
      "                                                recipe_ingredients,\n",
      "                                                scoring_method='prob_score',\n",
      "                                                separator=', ',\n",
      "                                                smoothing=2)\n",
      "prob_matrix_3 = text_utils.relationship_matrix(ingredients_filtered,\n",
      "                                                recipe_ingredients,\n",
      "                                                scoring_method='prob_score',\n",
      "                                                separator=', ',\n",
      "                                                smoothing=3)"
     ],
     "language": "python",
     "metadata": {},
     "outputs": [],
     "prompt_number": 185
    },
    {
     "cell_type": "code",
     "collapsed": false,
     "input": [
      "sample_ingredients = 8\n",
      "pprint ([['%.3f' % i for i in jaccard_matrix[j][:sample_ingredients]] for j in range(0,sample_ingredients)])"
     ],
     "language": "python",
     "metadata": {},
     "outputs": [
      {
       "output_type": "stream",
       "stream": "stdout",
       "text": [
        "[['1.000', '0.002', '0.017', '0.020', '0.027', '0.010', '0.022', '0.014'],\n",
        " ['0.002', '1.000', '0.016', '0.003', '0.006', '0.013', '0.011', '0.007'],\n",
        " ['0.017', '0.016', '1.000', '0.013', '0.107', '0.020', '0.068', '0.049'],\n",
        " ['0.020', '0.003', '0.013', '1.000', '0.014', '0.023', '0.029', '0.052'],\n",
        " ['0.027', '0.006', '0.107', '0.014', '1.000', '0.020', '0.095', '0.083'],\n",
        " ['0.010', '0.013', '0.020', '0.023', '0.020', '1.000', '0.035', '0.026'],\n",
        " ['0.022', '0.011', '0.068', '0.029', '0.095', '0.035', '1.000', '0.107'],\n",
        " ['0.014', '0.007', '0.049', '0.052', '0.083', '0.026', '0.107', '1.000']]\n"
       ]
      }
     ],
     "prompt_number": 187
    },
    {
     "cell_type": "code",
     "collapsed": false,
     "input": [
      "from scipy.sparse import csr_matrix\n",
      "from sklearn.cluster import KMeans\n",
      "\n",
      "sparse_jaccard = csr_matrix(jaccard_matrix)\n",
      "\n",
      "KM = KMeans().fit(sparse_jaccard)\n",
      "KM_clusters = KM.predict(sparse_jaccard)\n",
      "\n",
      "sorted_clu_dict = text_utils.rank_clusters(KM_clusters)\n",
      "\n",
      "print 'Top clusters:'\n",
      "pprint(sorted_clu_dict[:20])\n",
      "\n",
      "for clu in range(0,max(KM_clusters)+1):\n",
      "    print '***********************'\n",
      "    print '* Cluster', clu, '(%i elem)' % len([i for i in KM_clusters if i == clu]) ,'*'\n",
      "    print '***********************'\n",
      "    list_clu = []\n",
      "    for pos, clu_index in enumerate(KM_clusters):\n",
      "        if clu_index == clu:\n",
      "            list_clu.append(ingredients_filtered[pos])\n",
      "    print list_clu"
     ],
     "language": "python",
     "metadata": {},
     "outputs": [
      {
       "output_type": "stream",
       "stream": "stdout",
       "text": [
        "Top clusters:\n",
        "[(1, 14), (3, 12), (0, 9), (5, 8), (6, 8), (4, 7), (7, 7), (2, 6)]\n",
        "***********************\n",
        "* Cluster 0 (9 elem) *\n",
        "***********************\n",
        "[u'bacon', u'pecorino cheese', u'olives', u'baby spinach', u'chicken broth', u'beans', u'marinara sauce', u'pasta', u'chicken breasts']\n",
        "***********************\n",
        "* Cluster 1 (14 elem) *\n",
        "***********************\n",
        "[u'mozzarella', u'tomato paste', u'spinach', u'pizza doughs', u'ground beef', u'ricotta cheese', u'bell pepper', u'provolone cheese', u'fennel seeds', u'eggplant', u'tomato sauce', u'spaghetti', u'mushrooms', u'bread crumbs']\n",
        "***********************\n",
        "* Cluster 2 (6 elem) *\n",
        "***********************\n",
        "[u'egg yolks', u'marsala wine', u'mascarpone', u'nutmeg', u'cream', u'egg whites']\n",
        "***********************\n",
        "* Cluster 3 (12 elem) *\n",
        "***********************\n",
        "[u'wine', u'pepper flakes', u'parsley', u'basil', u'garlic', u'butter', u'ground pepper', u'parmesan cheese', u'onion', u'oregano', u'tomatoes', u'pepper']\n",
        "***********************\n",
        "* Cluster 4 (7 elem) *\n",
        "***********************\n",
        "[u'sugar', u'baking powder', u'milk', u'yeast', u'flour', u'vanilla', u'almonds']\n",
        "***********************\n",
        "* Cluster 5 (8 elem) *\n",
        "***********************\n",
        "[u'cannellini beans', u'thyme', u'rosemary', u'bay', u'chicken stock', u'zucchini', u'celery', u'carrots']\n",
        "***********************\n",
        "* Cluster 6 (8 elem) *\n",
        "***********************\n",
        "[u'shallots', u'sage', u'polenta', u'arborio rice', u'balsamic vinegar', u'peas', u'prosciutto', u'asparagus']\n",
        "***********************\n",
        "* Cluster 7 (7 elem) *\n",
        "***********************\n",
        "[u'bread', u'lemon juice', u'mint', u'pinenuts', u'lemon zest', u'wine vinegar', u'capers']\n"
       ]
      }
     ],
     "prompt_number": 228
    },
    {
     "cell_type": "code",
     "collapsed": false,
     "input": [
      "print text_utils.matrix_to_json(KM_clusters, jaccard_matrix, ingredients_filtered, filename='ingredients.json')"
     ],
     "language": "python",
     "metadata": {},
     "outputs": [
      {
       "output_type": "stream",
       "stream": "stdout",
       "text": [
        "ingredients.json\n"
       ]
      }
     ],
     "prompt_number": 229
    },
    {
     "cell_type": "code",
     "collapsed": false,
     "input": [
      "from sklearn.cluster import AffinityPropagation\n",
      "\n",
      "AF_model = AffinityPropagation(damping=0.8, affinity='precomputed')\n",
      "\n",
      "AF_clusters_prob = AF_model.fit(prob_matrix_3).labels_\n",
      "\n",
      "sorted_clu_dict = text_utils.rank_clusters(AF_clusters_prob)\n",
      "\n",
      "print 'Top clusters:'\n",
      "pprint(sorted_clu_dict[:30])\n",
      "noise = 0\n",
      "for clu in range(0,max(AF_clusters_prob)+1):\n",
      "    if len([i for i in AF_clusters_prob if i == clu]) > 1:\n",
      "        print '***********************'\n",
      "        print '* Cluster', clu, '(%i elem)' % len([i for i in AF_clusters_prob if i == clu]) ,'*'\n",
      "        print '***********************'\n",
      "        list_clu = []\n",
      "        for pos, clu_index in enumerate(AF_clusters_prob):\n",
      "            if clu_index == clu:\n",
      "                list_clu.append(ingredients_filtered[pos])\n",
      "        print list_clu\n",
      "    else:\n",
      "        noise += 1\n",
      "print 'noise:', noise"
     ],
     "language": "python",
     "metadata": {},
     "outputs": [
      {
       "output_type": "stream",
       "stream": "stdout",
       "text": [
        "Top clusters:\n",
        "[(10, 11),\n",
        " (4, 9),\n",
        " (1, 7),\n",
        " (6, 7),\n",
        " (3, 6),\n",
        " (5, 6),\n",
        " (11, 6),\n",
        " (0, 4),\n",
        " (2, 4),\n",
        " (12, 4),\n",
        " (9, 3),\n",
        " (7, 2),\n",
        " (8, 2)]\n",
        "***********************\n",
        "* Cluster 0 (4 elem) *\n",
        "***********************\n",
        "[u'bacon', u'polenta', u'spaghetti', u'pasta']\n",
        "***********************\n",
        "* Cluster 1 (7 elem) *\n",
        "***********************\n",
        "[u'mozzarella', u'basil', u'yeast', u'pizza doughs', u'balsamic vinegar', u'eggplant', u'marinara sauce']\n",
        "***********************\n",
        "* Cluster 2 (4 elem) *\n",
        "***********************\n",
        "[u'mint', u'pecorino cheese', u'ground pepper', u'pinenuts']\n",
        "***********************\n",
        "* Cluster 3 (6 elem) *\n",
        "***********************\n",
        "[u'sugar', u'baking powder', u'flour', u'vanilla', u'almonds', u'egg whites']\n",
        "***********************\n",
        "* Cluster 4 (9 elem) *\n",
        "***********************\n",
        "[u'wine', u'shallots', u'butter', u'arborio rice', u'parmesan cheese', u'chicken stock', u'peas', u'chicken broth', u'asparagus']\n",
        "***********************\n",
        "* Cluster 5 (6 elem) *\n",
        "***********************\n",
        "[u'egg yolks', u'marsala wine', u'mascarpone', u'mushrooms', u'chicken breasts', u'cream']\n",
        "***********************\n",
        "* Cluster 6 (7 elem) *\n",
        "***********************\n",
        "[u'tomato paste', u'parsley', u'ground beef', u'fennel seeds', u'tomato sauce', u'bread crumbs', u'oregano']\n",
        "***********************\n",
        "* Cluster 7 (2 elem) *\n",
        "***********************\n",
        "[u'lemon juice', u'lemon zest']\n",
        "***********************\n",
        "* Cluster 8 (2 elem) *\n",
        "***********************\n",
        "[u'zucchini', u'bell pepper']\n",
        "***********************\n",
        "* Cluster 9 (3 elem) *\n",
        "***********************\n",
        "[u'bread', u'prosciutto', u'provolone cheese']\n",
        "***********************\n",
        "* Cluster 10 (11 elem) *\n",
        "***********************\n",
        "[u'cannellini beans', u'thyme', u'rosemary', u'bay', u'garlic', u'onion', u'beans', u'celery', u'carrots', u'tomatoes', u'pepper']\n",
        "***********************\n",
        "* Cluster 11 (6 elem) *\n",
        "***********************\n",
        "[u'spinach', u'sage', u'milk', u'baby spinach', u'ricotta cheese', u'nutmeg']\n",
        "***********************\n",
        "* Cluster 12 (4 elem) *\n",
        "***********************\n",
        "[u'pepper flakes', u'olives', u'wine vinegar', u'capers']\n",
        "noise: 0\n"
       ]
      }
     ],
     "prompt_number": 198
    },
    {
     "cell_type": "code",
     "collapsed": false,
     "input": [
      "from sklearn.cluster import SpectralClustering\n",
      "\n",
      "sparse_prob = csr_matrix(prob_matrix_3)\n",
      "\n",
      "SC_model_prob = SpectralClustering(n_clusters=10, affinity='precomputed')\n",
      "\n",
      "SC_clusters_prob = SC_model_prob.fit(sparse_prob).labels_\n",
      "\n",
      "sorted_clu_dict = text_utils.rank_clusters(SC_clusters_prob)\n",
      "\n",
      "print 'Top clusters:'\n",
      "pprint(sorted_clu_dict[:8])\n",
      "\n",
      "for clu in range(0,max(SC_clusters_prob)+1):\n",
      "    print '***********************'\n",
      "    print '* Cluster', clu, '(%i elem)' % len([i for i in SC_clusters_prob if i == clu]) ,'*'\n",
      "    print '***********************'\n",
      "    list_clu = []\n",
      "    for pos, clu_index in enumerate(SC_clusters_prob):\n",
      "        if clu_index == clu:\n",
      "            list_clu.append(ingredients_filtered[pos])\n",
      "    print list_clu"
     ],
     "language": "python",
     "metadata": {},
     "outputs": [
      {
       "output_type": "stream",
       "stream": "stdout",
       "text": [
        "Top clusters:\n",
        "[(7, 21), (0, 10), (6, 10), (1, 7), (8, 5), (9, 5), (4, 4), (2, 3)]\n",
        "***********************\n",
        "* Cluster 0 (10 elem) *\n",
        "***********************\n",
        "[u'bacon', u'spinach', u'milk', u'parmesan cheese', u'baby spinach', u'ricotta cheese', u'marinara sauce', u'nutmeg', u'bread crumbs', u'egg whites']\n",
        "***********************\n",
        "* Cluster 1 (7 elem) *\n",
        "***********************\n",
        "[u'tomato paste', u'sugar', u'bay', u'ground beef', u'fennel seeds', u'tomato sauce', u'oregano']\n",
        "***********************\n",
        "* Cluster 2 (3 elem) *\n",
        "***********************\n",
        "[u'baking powder', u'vanilla', u'almonds']\n",
        "***********************\n",
        "* Cluster 3 (3 elem) *\n",
        "***********************\n",
        "[u'mozzarella', u'yeast', u'pizza doughs']\n",
        "***********************\n",
        "* Cluster 4 (4 elem) *\n",
        "***********************\n",
        "[u'egg yolks', u'marsala wine', u'mascarpone', u'cream']\n",
        "***********************\n",
        "* Cluster 5 (3 elem) *\n",
        "***********************\n",
        "[u'arborio rice', u'peas', u'asparagus']\n",
        "***********************\n",
        "* Cluster 6 (10 elem) *\n",
        "***********************\n",
        "[u'wine', u'thyme', u'rosemary', u'shallots', u'sage', u'polenta', u'butter', u'chicken stock', u'prosciutto', u'flour']\n",
        "***********************\n",
        "* Cluster 7 (21 elem) *\n",
        "***********************\n",
        "[u'bread', u'pepper flakes', u'parsley', u'basil', u'garlic', u'ground pepper', u'olives', u'balsamic vinegar', u'bell pepper', u'provolone cheese', u'eggplant', u'chicken broth', u'onion', u'spaghetti', u'pasta', u'mushrooms', u'wine vinegar', u'chicken breasts', u'tomatoes', u'pepper', u'capers']\n",
        "***********************\n",
        "* Cluster 8 (5 elem) *\n",
        "***********************\n",
        "[u'cannellini beans', u'zucchini', u'beans', u'celery', u'carrots']\n",
        "***********************\n",
        "* Cluster 9 (5 elem) *\n",
        "***********************\n",
        "[u'lemon juice', u'mint', u'pecorino cheese', u'pinenuts', u'lemon zest']\n"
       ]
      }
     ],
     "prompt_number": 213
    }
   ],
   "metadata": {}
  }
 ]
}