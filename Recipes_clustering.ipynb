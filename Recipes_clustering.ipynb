{
 "metadata": {
  "name": "",
  "notify_time": "30",
  "signature": "sha256:ab9029f1797c5873b7d397e99e5139dfaf77d2c58e5ab6f0d94c042e7e7d0bfb"
 },
 "nbformat": 3,
 "nbformat_minor": 0,
 "worksheets": [
  {
   "cells": [
    {
     "cell_type": "code",
     "collapsed": false,
     "input": [
      "import requests\n",
      "import numpy as np\n",
      "from textblob import TextBlob\n",
      "from pprint import pprint\n",
      "from nltk.corpus import stopwords\n",
      "import text_utils\n",
      "import tag_clouder\n",
      "import os\n",
      "reload(text_utils)\n",
      "reload(tag_clouder)"
     ],
     "language": "python",
     "metadata": {},
     "outputs": [
      {
       "metadata": {},
       "output_type": "pyout",
       "prompt_number": 5,
       "text": [
        "<module 'tag_clouder' from 'tag_clouder.pyc'>"
       ]
      }
     ],
     "prompt_number": 5
    },
    {
     "cell_type": "code",
     "collapsed": false,
     "input": [
      "# Get the data from the Pearson API\n",
      "response = requests.get(\"http://api.pearson.com:80/kitchen-manager/v1/recipes?limit=500\")\n",
      "recipes_list = (response.json()['results'])\n",
      "ingredients_list = [i['ingredients'] for i in recipes_list]\n",
      "\n",
      "# List of stopwords\n",
      "stop = stopwords.words('english')\n",
      "stop += ['purpose', 'ground', 'seed', 'powder', 'juice', 'zest', 'light', 'medium']\n",
      "\n",
      "# All to towercase, remove not-nouns and stopwords from ingredients\n",
      "ingredients_only_nouns = [[[j[0] for j in TextBlob(i.lower()).tags if j[1][:2] == 'NN' and j[0] not in stop] for i in k] for k in ingredients_list]\n",
      "ingredients_only_nouns = [[' '.join(ing) for ing in recipe] for recipe in ingredients_only_nouns]\n",
      "\n",
      "# Final list for clustering\n",
      "recipe_ingredients = [', '.join(i) for i in ingredients_only_nouns]\n",
      "recipe_names = [i['name'] for i in recipes_list]\n",
      "recipe_cuisine = [i['cuisine'] for i in recipes_list]\n",
      "recipe_method = [i['cooking_method'] for i in recipes_list]\n",
      "\n",
      "pprint(recipe_ingredients[:5])\n",
      "pprint(recipe_names[:5])\n",
      "pprint(recipe_cuisine[:5])"
     ],
     "language": "python",
     "metadata": {},
     "outputs": [
      {
       "output_type": "stream",
       "stream": "stdout",
       "text": [
        "[u'flour',\n",
        " u'ancho chile pepper, garlic clove, allspice, cumin, annatto, oil, wine vinegar, , salt',\n",
        " u'supr\\xe3\\xaame sauce, glace volaille, pepper butter, salt, pepper',\n",
        " u'veal velout\\xe3\\xa9, egg yolks, cream, lemon, salt, pepper',\n",
        " u'butter, sugar, eggs, flour, almonds']\n",
        "[u'Acapulco Spice Blend',\n",
        " u'Achiote Paste',\n",
        " u'Albufera Sauce',\n",
        " u'Allemande Sauce',\n",
        " u'Almond Cream']\n",
        "[u'N/A', u'Mexican', u'French', u'French', u'French']\n"
       ]
      }
     ],
     "prompt_number": 2
    },
    {
     "cell_type": "markdown",
     "metadata": {},
     "source": [
      "##K-Means"
     ]
    },
    {
     "cell_type": "code",
     "collapsed": false,
     "input": [
      "from sklearn.feature_extraction.text import TfidfVectorizer\n",
      "from sklearn.cluster import KMeans\n",
      "\n",
      "vectorizer = TfidfVectorizer()\n",
      "ing_vectors = vectorizer.fit_transform(recipe_ingredients)\n",
      "\n",
      "KM = KMeans(n_clusters=6).fit(ing_vectors)\n",
      "KM_clusters = KM.predict(ing_vectors)"
     ],
     "language": "python",
     "metadata": {},
     "outputs": [],
     "prompt_number": 3
    },
    {
     "cell_type": "code",
     "collapsed": false,
     "input": [
      "# Print cluster elements\n",
      "# for clu in range(0,max(KM_clusters)+1):\n",
      "#     print '***********************'\n",
      "#     print '* Cluster', clu, '(%i elem)' % len([i for i in KM_clusters if i == clu]) ,'*'\n",
      "#     print '***********************'\n",
      "#     for pos, clu_index in enumerate(KM_clusters):\n",
      "#         if clu_index == clu:\n",
      "#             print ' ', recipe_names[pos].upper(), ':', recipe_ingredients[pos][:90]"
     ],
     "language": "python",
     "metadata": {},
     "outputs": []
    },
    {
     "cell_type": "code",
     "collapsed": false,
     "input": [
      "ingredients_clustered = text_utils.cluster_aggregator(recipe_ingredients, KM_clusters)\n",
      "for i in range(max(KM_clusters)+1):\n",
      "    clu_keywords = text_utils.top_keywords(ingredients_clustered, n_keywords_print=6, n_keywords_tag=25, cluster_list=[i])\n",
      "    tg = tag_clouder.TagCloud()\n",
      "    print tg.draw(clu_keywords, imageFilePath=os.getcwd() + '/clusters_img/' +'KM_cluster_' + str(i) + '.jpg')"
     ],
     "language": "python",
     "metadata": {},
     "outputs": [
      {
       "output_type": "stream",
       "stream": "stdout",
       "text": [
        "Top words in document 0\n",
        "\tWord: dough, TF-IDF: 0.00795"
       ]
      },
      {
       "output_type": "stream",
       "stream": "stdout",
       "text": [
        "\n",
        "\tWord: round, TF-IDF: 0.00663\n",
        "\tWord: espagnole, TF-IDF: 0.0063\n",
        "\tWord: venison, TF-IDF: 0.0063\n",
        "\tWord: salmon, TF-IDF: 0.0063\n",
        "\tWord: dill, TF-IDF: 0.0053\n",
        "/Users/awn-37/Dropbox/8. PyProjects/fletcher-dev/clusters_img/KM_cluster_0.jpg"
       ]
      },
      {
       "output_type": "stream",
       "stream": "stdout",
       "text": [
        "\n",
        "Top words in document 1\n",
        "\tWord: shallot, TF-IDF: 0.04816"
       ]
      },
      {
       "output_type": "stream",
       "stream": "stdout",
       "text": [
        "\n",
        "\tWord: scallops, TF-IDF: 0.00694\n",
        "\tWord: port, TF-IDF: 0.00584\n",
        "\tWord: marrow, TF-IDF: 0.00463\n",
        "\tWord: tarragon, TF-IDF: 0.00341\n",
        "\tWord: chervil, TF-IDF: 0.00292\n",
        "/Users/awn-37/Dropbox/8. PyProjects/fletcher-dev/clusters_img/KM_cluster_1.jpg"
       ]
      },
      {
       "output_type": "stream",
       "stream": "stdout",
       "text": [
        "\n",
        "Top words in document 2\n",
        "\tWord: chile, TF-IDF: 0.02168"
       ]
      },
      {
       "output_type": "stream",
       "stream": "stdout",
       "text": [
        "\n",
        "\tWord: bell, TF-IDF: 0.01678\n",
        "\tWord: cilantro, TF-IDF: 0.00971\n",
        "\tWord: cumin, TF-IDF: 0.0075\n",
        "\tWord: tabasco, TF-IDF: 0.00559\n",
        "\tWord: soy, TF-IDF: 0.0049\n",
        "/Users/awn-37/Dropbox/8. PyProjects/fletcher-dev/clusters_img/KM_cluster_2.jpg\n",
        "Top words in document 3\n",
        "\tWord: bones, TF-IDF: 0.02077"
       ]
      },
      {
       "output_type": "stream",
       "stream": "stdout",
       "text": [
        "\n",
        "\tWord: mirepoix, TF-IDF: 0.00965\n",
        "\tWord: pheasant, TF-IDF: 0.00831\n",
        "\tWord: trimmings, TF-IDF: 0.00831\n",
        "\tWord: duck, TF-IDF: 0.00831\n",
        "\tWord: shells, TF-IDF: 0.00831\n",
        "/Users/awn-37/Dropbox/8. PyProjects/fletcher-dev/clusters_img/KM_cluster_3.jpg\n",
        "Top words in document 4\n",
        "\tWord: baking, TF-IDF: 0.0477"
       ]
      },
      {
       "output_type": "stream",
       "stream": "stdout",
       "text": [
        "\n",
        "\tWord: yeast, TF-IDF: 0.02747\n",
        "\tWord: soda, TF-IDF: 0.0159\n",
        "\tWord: eggs, TF-IDF: 0.01152\n",
        "\tWord: vanilla, TF-IDF: 0.01067\n",
        "\tWord: cornmeal, TF-IDF: 0.00867\n",
        "/Users/awn-37/Dropbox/8. PyProjects/fletcher-dev/clusters_img/KM_cluster_4.jpg"
       ]
      },
      {
       "output_type": "stream",
       "stream": "stdout",
       "text": [
        "\n",
        "Top words in document 5\n",
        "\tWord: vanilla, TF-IDF: 0.01981"
       ]
      },
      {
       "output_type": "stream",
       "stream": "stdout",
       "text": [
        "\n",
        "\tWord: bean, TF-IDF: 0.01242\n",
        "\tWord: oranges, TF-IDF: 0.0079\n",
        "\tWord: gelatin, TF-IDF: 0.00677\n",
        "\tWord: yolks, TF-IDF: 0.00624\n",
        "\tWord: confectioners, TF-IDF: 0.00594\n",
        "/Users/awn-37/Dropbox/8. PyProjects/fletcher-dev/clusters_img/KM_cluster_5.jpg"
       ]
      },
      {
       "output_type": "stream",
       "stream": "stdout",
       "text": [
        "\n"
       ]
      }
     ],
     "prompt_number": 30
    },
    {
     "cell_type": "markdown",
     "metadata": {},
     "source": [
      "##Agglomerative Clustering"
     ]
    },
    {
     "cell_type": "code",
     "collapsed": false,
     "input": [
      "from sklearn.cluster import AgglomerativeClustering\n",
      "\n",
      "AC_clusters = AgglomerativeClustering(n_clusters=50, affinity='cosine', linkage='average').fit_predict(ing_vectors.toarray())\n",
      "\n",
      "sorted_clu_dict = text_utils.rank_clusters(AC_clusters)\n",
      "\n",
      "print 'Top clusters:'\n",
      "pprint(sorted_clu_dict[:10])"
     ],
     "language": "python",
     "metadata": {},
     "outputs": [
      {
       "output_type": "stream",
       "stream": "stdout",
       "text": [
        "Top clusters:\n",
        "[(3, 114),\n",
        " (1, 92),\n",
        " (5, 58),\n",
        " (4, 24),\n",
        " (9, 22),\n",
        " (0, 21),\n",
        " (46, 15),\n",
        " (8, 12),\n",
        " (2, 10),\n",
        " (6, 9)]\n"
       ]
      }
     ],
     "prompt_number": 32
    },
    {
     "cell_type": "code",
     "collapsed": false,
     "input": [
      "top_clu = [i[0] for i in sorted_clu_dict[:6]]\n",
      "ingredients_clustered = text_utils.cluster_aggregator(recipe_ingredients, AC_clusters)\n",
      "for i in top_clu:\n",
      "    clu_keywords = text_utils.top_keywords(ingredients_clustered, n_keywords_print=6, n_keywords_tag=25, cluster_list=[i])\n",
      "    tg = tag_clouder.TagCloud()\n",
      "    print tg.draw(clu_keywords, imageFilePath=os.getcwd() + '/clusters_img/' +'AC_cluster_' + str(i) + '.jpg')"
     ],
     "language": "python",
     "metadata": {},
     "outputs": [
      {
       "output_type": "stream",
       "stream": "stdout",
       "text": [
        "Top words in document 3\n",
        "\tWord: flour, TF-IDF: 0.12186"
       ]
      },
      {
       "output_type": "stream",
       "stream": "stdout",
       "text": [
        "\n",
        "\tWord: sugar, TF-IDF: 0.09193\n",
        "\tWord: baking, TF-IDF: 0.08973\n",
        "\tWord: vanilla, TF-IDF: 0.07762\n",
        "\tWord: yeast, TF-IDF: 0.06292\n",
        "\tWord: eggs, TF-IDF: 0.06286\n",
        "/Users/awn-37/Dropbox/8. PyProjects/fletcher-dev/clusters_img/AC_cluster_3.jpg\n",
        "Top words in document 1\n",
        "\tWord: pepper, TF-IDF: 0.06582"
       ]
      },
      {
       "output_type": "stream",
       "stream": "stdout",
       "text": [
        "\n",
        "\tWord: chile, TF-IDF: 0.05345\n",
        "\tWord: bell, TF-IDF: 0.05188\n",
        "\tWord: shallot, TF-IDF: 0.05133\n",
        "\tWord: garlic, TF-IDF: 0.05111\n",
        "\tWord: vinegar, TF-IDF: 0.04809\n",
        "/Users/awn-37/Dropbox/8. PyProjects/fletcher-dev/clusters_img/AC_cluster_1.jpg\n",
        "Top words in document 5"
       ]
      },
      {
       "output_type": "stream",
       "stream": "stdout",
       "text": [
        "\n",
        "\tWord: thyme, TF-IDF: 0.08794"
       ]
      },
      {
       "output_type": "stream",
       "stream": "stdout",
       "text": [
        "\n",
        "\tWord: bay, TF-IDF: 0.08589\n",
        "\tWord: mirepoix, TF-IDF: 0.08352\n",
        "\tWord: tomato, TF-IDF: 0.05821\n",
        "\tWord: parsley, TF-IDF: 0.05813\n",
        "\tWord: pepper, TF-IDF: 0.04479\n",
        "/Users/awn-37/Dropbox/8. PyProjects/fletcher-dev/clusters_img/AC_cluster_5.jpg\n",
        "Top words in document 4"
       ]
      },
      {
       "output_type": "stream",
       "stream": "stdout",
       "text": [
        "\n",
        "\tWord: stock, TF-IDF: 0.145\n",
        "\tWord: chicken, TF-IDF: 0.13755\n",
        "\tWord: velout\u00e3\u00a9, TF-IDF: 0.10531\n",
        "\tWord: fish, TF-IDF: 0.0784\n",
        "\tWord: rice, TF-IDF: 0.07388\n",
        "\tWord: pepper, TF-IDF: 0.04371\n",
        "/Users/awn-37/Dropbox/8. PyProjects/fletcher-dev/clusters_img/AC_cluster_4.jpg"
       ]
      },
      {
       "output_type": "stream",
       "stream": "stdout",
       "text": [
        "\n",
        "Top words in document 9\n",
        "\tWord: sauce, TF-IDF: 0.14803"
       ]
      },
      {
       "output_type": "stream",
       "stream": "stdout",
       "text": [
        "\n",
        "\tWord: worcestershire, TF-IDF: 0.07767\n",
        "\tWord: tabasco, TF-IDF: 0.06183\n",
        "\tWord: oil, TF-IDF: 0.04591\n",
        "\tWord: soy, TF-IDF: 0.04217\n",
        "\tWord: celery, TF-IDF: 0.04217\n",
        "/Users/awn-37/Dropbox/8. PyProjects/fletcher-dev/clusters_img/AC_cluster_9.jpg"
       ]
      },
      {
       "output_type": "stream",
       "stream": "stdout",
       "text": [
        "\n",
        "Top words in document 0\n",
        "\tWord: b\u00e3\u00a9chamel, TF-IDF: 0.16423\n",
        "\tWord: cream, TF-IDF: 0.13823\n",
        "\tWord: cheese, TF-IDF: 0.06873\n",
        "\tWord: butter, TF-IDF: 0.06288\n",
        "\tWord: buttermilk, TF-IDF: 0.05742\n",
        "\tWord: tails, TF-IDF: 0.05742\n",
        "/Users/awn-37/Dropbox/8. PyProjects/fletcher-dev/clusters_img/AC_cluster_0.jpg"
       ]
      },
      {
       "output_type": "stream",
       "stream": "stdout",
       "text": [
        "\n"
       ]
      }
     ],
     "prompt_number": 33
    },
    {
     "cell_type": "markdown",
     "metadata": {},
     "source": [
      "##DBSCAN"
     ]
    },
    {
     "cell_type": "code",
     "collapsed": false,
     "input": [
      "from sklearn.cluster import DBSCAN\n",
      "\n",
      "DB_clusters = DBSCAN(eps=0.54, min_samples=2, metric='cosine', algorithm='brute').fit_predict(ing_vectors.toarray())\n",
      "\n",
      "sorted_clu_dict = text_utils.rank_clusters(DB_clusters)\n",
      "\n",
      "print 'Clusters:'\n",
      "pprint(sorted_clu_dict)"
     ],
     "language": "python",
     "metadata": {},
     "outputs": [
      {
       "output_type": "stream",
       "stream": "stdout",
       "text": [
        "Clusters:\n",
        "[(0, 347),\n",
        " (-1, 108),\n",
        " (5, 6),\n",
        " (4, 5),\n",
        " (3, 3),\n",
        " (6, 3),\n",
        " (7, 3),\n",
        " (8, 3),\n",
        " (15, 3),\n",
        " (16, 3),\n",
        " (1, 2),\n",
        " (2, 2),\n",
        " (9, 2),\n",
        " (10, 2),\n",
        " (11, 2),\n",
        " (12, 2),\n",
        " (13, 2),\n",
        " (14, 2)]\n"
       ]
      }
     ],
     "prompt_number": 34
    },
    {
     "cell_type": "code",
     "collapsed": false,
     "input": [
      "reload(text_utils)\n",
      "top_clu = [i[0] for i in sorted_clu_dict[:7] if i[0]!=-1]\n",
      "ingredients_clustered = text_utils.cluster_aggregator(recipe_ingredients, DB_clusters)\n",
      "for i in top_clu:\n",
      "    clu_keywords = text_utils.top_keywords(ingredients_clustered, n_keywords_print=6, n_keywords_tag=25, cluster_list=[i])\n",
      "    tg = tag_clouder.TagCloud()\n",
      "    print tg.draw(clu_keywords, imageFilePath=os.getcwd() + '/clusters_img/' +'DB_cluster_' + str(i) + '.jpg')"
     ],
     "language": "python",
     "metadata": {},
     "outputs": [
      {
       "output_type": "stream",
       "stream": "stdout",
       "text": [
        "Top words in document 0\n",
        "\tWord: flour, TF-IDF: 0.0589"
       ]
      },
      {
       "output_type": "stream",
       "stream": "stdout",
       "text": [
        "\n",
        "\tWord: oil, TF-IDF: 0.0432\n",
        "\tWord: sugar, TF-IDF: 0.03444\n",
        "\tWord: thyme, TF-IDF: 0.03085\n",
        "\tWord: butter, TF-IDF: 0.02814\n",
        "\tWord: eggs, TF-IDF: 0.02808\n",
        "/Users/awn-37/Dropbox/8. PyProjects/fletcher-dev/clusters_img/DB_cluster_0.jpg\n",
        "Top words in document 5\n",
        "\tWord: b\u00e3\u00a9chamel, TF-IDF: 0.28159\n",
        "\tWord: tails, TF-IDF: 0.11264\n",
        "\tWord: cheese, TF-IDF: 0.09661\n",
        "\tWord: cream, TF-IDF: 0.08222\n",
        "\tWord: butter, TF-IDF: 0.05586\n",
        "\tWord: salt, TF-IDF: 0.055\n",
        "/Users/awn-37/Dropbox/8. PyProjects/fletcher-dev/clusters_img/DB_cluster_5.jpg"
       ]
      },
      {
       "output_type": "stream",
       "stream": "stdout",
       "text": [
        "\n",
        "Top words in document 4\n",
        "\tWord: smith, TF-IDF: 0.13877\n",
        "\tWord: granny, TF-IDF: 0.13877\n",
        "\tWord: apple, TF-IDF: 0.12238\n",
        "\tWord: apricots, TF-IDF: 0.0856\n",
        "\tWord: sugar, TF-IDF: 0.05324\n",
        "\tWord: anise, TF-IDF: 0.0428\n",
        "/Users/awn-37/Dropbox/8. PyProjects/fletcher-dev/clusters_img/DB_cluster_4.jpg"
       ]
      },
      {
       "output_type": "stream",
       "stream": "stdout",
       "text": [
        "\n",
        "Top words in document 3\n",
        "\tWord: dough, TF-IDF: 0.40126\n",
        "\tWord: pie, TF-IDF: 0.32524\n",
        "\tWord: shell, TF-IDF: 0.10841\n",
        "\tWord: bacon, TF-IDF: 0.10841\n",
        "\tWord: swiss, TF-IDF: 0.10841\n",
        "\tWord: milk, TF-IDF: 0.10841\n",
        "/Users/awn-37/Dropbox/8. PyProjects/fletcher-dev/clusters_img/DB_cluster_3.jpg\n",
        "Top words in document 6\n",
        "\tWord: supr\u00e3\u00aame, TF-IDF: 0.30572\n",
        "\tWord: volaille, TF-IDF: 0.20382\n",
        "\tWord: glace, TF-IDF: 0.20382\n",
        "\tWord: sauce, TF-IDF: 0.12676\n",
        "\tWord: paprika, TF-IDF: 0.05828\n",
        "\tWord: pepper, TF-IDF: 0.0511\n",
        "/Users/awn-37/Dropbox/8. PyProjects/fletcher-dev/clusters_img/DB_cluster_6.jpg"
       ]
      },
      {
       "output_type": "stream",
       "stream": "stdout",
       "text": [
        "\n",
        "Top words in document 7\n",
        "\tWord: p\u00e3\u00a2tissi\u00e3\u00a8re, TF-IDF: 0.25681\n",
        "\tWord: cream, TF-IDF: 0.20829\n",
        "\tWord: pastry, TF-IDF: 0.20815\n",
        "\tWord: cr\u00e3\u00a8me, TF-IDF: 0.14685\n",
        "\tWord: gelatin, TF-IDF: 0.11575\n",
        "\tWord: peaches, TF-IDF: 0.0856\n",
        "/Users/awn-37/Dropbox/8. PyProjects/fletcher-dev/clusters_img/DB_cluster_7.jpg\n"
       ]
      }
     ],
     "prompt_number": 39
    }
   ],
   "metadata": {}
  }
 ]
}